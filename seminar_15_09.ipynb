{
 "cells": [
  {
   "cell_type": "markdown",
   "metadata": {},
   "source": [
    "## Семинар 15.09 - про типы данных и Тестирование"
   ]
  },
  {
   "cell_type": "markdown",
   "metadata": {},
   "source": [
    "### Какие типы мы знаем?"
   ]
  },
  {
   "cell_type": "markdown",
   "metadata": {},
   "source": [
    "- целые числа\n",
    "- вещественные числа\n",
    "- логический тип\n",
    "- кортежи\n",
    "- строки\n",
    "- списки\n",
    "- нечисло None"
   ]
  },
  {
   "cell_type": "markdown",
   "metadata": {},
   "source": [
    "### Как хранятся переменные в python?"
   ]
  },
  {
   "cell_type": "code",
   "execution_count": 2,
   "metadata": {},
   "outputs": [],
   "source": [
    "# Любая переменная в python - это объект\n",
    "# когда мы объявляем переменную:\n",
    "\n",
    "a = 1\n",
    "\n",
    "# мы на самом деле не имеем доступа к этой единице, мы храним ссылку на этот объект"
   ]
  },
  {
   "cell_type": "markdown",
   "metadata": {},
   "source": [
    "При этом, в языке python есть такое понятие как неизменяемые типы данных:\n",
    "    \n",
    "- int\n",
    "- float\n",
    "- bool\n",
    "- str\n",
    "- tuple\n",
    "\n",
    "И изменяемые:\n",
    "    \n",
    "- list\n",
    "- set\n",
    "- dict\n"
   ]
  },
  {
   "cell_type": "code",
   "execution_count": 71,
   "metadata": {},
   "outputs": [
    {
     "data": {
      "text/plain": [
       "(1, 2)"
      ]
     },
     "execution_count": 71,
     "metadata": {},
     "output_type": "execute_result"
    }
   ],
   "source": [
    "first = 1\n",
    "second = first\n",
    "second = 2\n",
    "first, second"
   ]
  },
  {
   "cell_type": "code",
   "execution_count": 72,
   "metadata": {},
   "outputs": [
    {
     "data": {
      "text/plain": [
       "([1, 2, 3], [5, 6])"
      ]
     },
     "execution_count": 72,
     "metadata": {},
     "output_type": "execute_result"
    }
   ],
   "source": [
    "first = [1, 2, 3]\n",
    "second = first\n",
    "second = [5, 6]\n",
    "first, second"
   ]
  },
  {
   "cell_type": "code",
   "execution_count": 73,
   "metadata": {},
   "outputs": [
    {
     "data": {
      "text/plain": [
       "(1, 2)"
      ]
     },
     "execution_count": 73,
     "metadata": {},
     "output_type": "execute_result"
    }
   ],
   "source": [
    "first = 1\n",
    "second = first\n",
    "second += 1\n",
    "first, second"
   ]
  },
  {
   "cell_type": "code",
   "execution_count": 74,
   "metadata": {},
   "outputs": [
    {
     "data": {
      "text/plain": [
       "([1, 2, 3, 5, 6], [1, 2, 3, 5, 6])"
      ]
     },
     "execution_count": 74,
     "metadata": {},
     "output_type": "execute_result"
    }
   ],
   "source": [
    "first = [1, 2, 3]\n",
    "second = first\n",
    "second += [5, 6]\n",
    "first, second"
   ]
  },
  {
   "cell_type": "code",
   "execution_count": 75,
   "metadata": {},
   "outputs": [
    {
     "data": {
      "text/plain": [
       "('123', '12356')"
      ]
     },
     "execution_count": 75,
     "metadata": {},
     "output_type": "execute_result"
    }
   ],
   "source": [
    "first = '123'\n",
    "second = first\n",
    "second += '56'\n",
    "first, second"
   ]
  },
  {
   "cell_type": "code",
   "execution_count": 77,
   "metadata": {},
   "outputs": [
    {
     "data": {
      "text/plain": [
       "[[0, 0, 0, 0, 0, 0, 0, 0],\n",
       " [0, 0, 0, 0, 0, 0, 0, 0],\n",
       " [0, 0, 0, 0, 0, 0, 0, 0],\n",
       " [0, 0, 0, 0, 0, 0, 0, 0],\n",
       " [0, 0, 0, 0, 0, 0, 0, 0],\n",
       " [0, 0, 0, 0, 0, 0, 0, 0],\n",
       " [0, 0, 0, 0, 0, 0, 0, 0],\n",
       " [0, 0, 0, 0, 0, 0, 0, 0]]"
      ]
     },
     "execution_count": 77,
     "metadata": {},
     "output_type": "execute_result"
    }
   ],
   "source": [
    "a = [[0] * 8] * 8\n",
    "a"
   ]
  },
  {
   "cell_type": "code",
   "execution_count": 78,
   "metadata": {},
   "outputs": [],
   "source": [
    "a[3][4] = 1"
   ]
  },
  {
   "cell_type": "code",
   "execution_count": 79,
   "metadata": {},
   "outputs": [
    {
     "data": {
      "text/plain": [
       "[[0, 0, 0, 0, 1, 0, 0, 0],\n",
       " [0, 0, 0, 0, 1, 0, 0, 0],\n",
       " [0, 0, 0, 0, 1, 0, 0, 0],\n",
       " [0, 0, 0, 0, 1, 0, 0, 0],\n",
       " [0, 0, 0, 0, 1, 0, 0, 0],\n",
       " [0, 0, 0, 0, 1, 0, 0, 0],\n",
       " [0, 0, 0, 0, 1, 0, 0, 0],\n",
       " [0, 0, 0, 0, 1, 0, 0, 0]]"
      ]
     },
     "execution_count": 79,
     "metadata": {},
     "output_type": "execute_result"
    }
   ],
   "source": [
    "a"
   ]
  },
  {
   "cell_type": "markdown",
   "metadata": {},
   "source": [
    "#### Про диапазон целых чисел"
   ]
  },
  {
   "cell_type": "code",
   "execution_count": 10,
   "metadata": {},
   "outputs": [],
   "source": [
    "# Какое максимальное значение int в Python 3?"
   ]
  },
  {
   "cell_type": "code",
   "execution_count": 80,
   "metadata": {},
   "outputs": [],
   "source": [
    "# unsigned long long\n",
    "big_number = 18446744073709551615 ** 200\n",
    "small_number = 12"
   ]
  },
  {
   "cell_type": "code",
   "execution_count": 81,
   "metadata": {},
   "outputs": [
    {
     "data": {
      "text/plain": [
       "(15273708540796677689969718412435873508985784752647066791432571702609726855781649350214020025356712847798904191851704598504662523984007602799704559564307773885222273148681610152107324131879273717822906800978298599428400156234666345218322432457256287779051947206587032128585737923537860066366959991460998611371459880985199878192664037599217899873928707789120951903015382147266314571324922054566483830752947414091699618911177365688784316044517145015245442849831143034230936873956529393866977263015588215980093717315050505335863101020112135128354382876714961570624200225702238132027613252900438300330636993660249528893003513534061245581031346393146150147382438363281935250674558563531892732448053797749222102887721942415571754796129447667062198990835087226367933628108756284092253967956593553595802376024728068178035663636746503228623119702832546115268298929948753547787967820841400867031292919796924125588153765181031554192807429369169343349793108648867847619618306413316587853554842101297363061270944024337867816026411661090354221395333464328308073137055541572629619010330113000329626132858649987479158847865371780196222735542401119752367377647101399766912417881270318578211524284689398736111830355358450048354657542808919802040623130187522683063956070898085109015709225507399908811779724530455867528015390186770231397399566483673135066761315095189530846642784582594714081476059882946345816490225335690196314540673945082663378761850622117290177985226563790177302842060303329348659844053130694741563220981850153996816383480536704485450727008615743667100550556387407170277834543290056244406702154161792291343278547782597465811279630108746201693213001058327052659954367940380183500458339097985364087869565869544035876383408408769444205698936912935088634476428638627082146889474065002968873348975338117741014133263539438765151032219288818647890118619322620004633001312245575979136094548659095093931548863166040025296941124396699294353517408859415915809197967456248720858997636644799317225672408768461760167973450788080461665349312724146107626605165394792505578743484798885055670715964507920459777439416451933034295882022207807309967338160404149684544872032559817156767306880248733592385875582981719195576532201038281799596594412899677049432091005366376831685768439195027995525003225364483282076108458724856513212679580997700590452833800311177549910762776908658622937865560494774758587693020251579522327581549909281278245757920550912598826248206956576530649747703725054891169277350433328682404386938342061561406692634674395252479117898144526115670611726628576465816881136247812744496125891101485753291160569245540145412166641438955062957619181014183851354323152246385995165279145805180424789211016671003841940683849530894516212382194962345554303432195763223165363353328518141196684621147572368928919767962108717863611277916815346998550566886765121693359082537524430443256075357732481275004744788991017958566601919760960070385060303588457826352739815697311619979365232309341843856207111158174670474054691491483450880778489850832845937075150226207610589056861637443864257915040239585129533599499151085765566876203154600904173946736161098559420112729299413335530884216876558552636019286209788215551151359869195379323987248800388763231860559273176706494504906283329993126403038734912416314604905024161059043047730357660499152441226969368031852524830947779946751348322340730379663902722511992281819822631502872417828021948214767724548294044558408980399999233888263743600196631311201282233465771873151435660608188141843644899720785307240427425724665841947904090002804305912490133459214533793169400540664949059143971486616166536790378406306816035644740403486490369269168658065068937261759099636880262679794645674917214820505391255017339164326430202941099967537849045990640035232393589147840548464280916509580863811000557423423230896109004106619977392256259918212890625,\n",
       " 12)"
      ]
     },
     "execution_count": 81,
     "metadata": {},
     "output_type": "execute_result"
    }
   ],
   "source": [
    "big_number, small_number"
   ]
  },
  {
   "cell_type": "code",
   "execution_count": 82,
   "metadata": {},
   "outputs": [
    {
     "data": {
      "text/plain": [
       "(1732, 28)"
      ]
     },
     "execution_count": 82,
     "metadata": {},
     "output_type": "execute_result"
    }
   ],
   "source": [
    "import sys\n",
    "\n",
    "# размер в байтах\n",
    "sys.getsizeof(big_number), sys.getsizeof(small_number)"
   ]
  },
  {
   "cell_type": "code",
   "execution_count": 27,
   "metadata": {},
   "outputs": [],
   "source": [
    "# поэтому переменные вида имеют мало смысла\n",
    "MAX_INT = 10e9"
   ]
  },
  {
   "cell_type": "code",
   "execution_count": 28,
   "metadata": {},
   "outputs": [],
   "source": [
    "# лучше использовать None\n",
    "\n",
    "max_value = None\n",
    "some_list = [1, 2, 3, 4, 5]\n",
    "\n",
    "for element in some_list:\n",
    "    if element % 2:\n",
    "        continue\n",
    "\n",
    "    if max_value is None:\n",
    "        max_value = element\n",
    "    else:\n",
    "        max_value = max(max_value, element)"
   ]
  },
  {
   "cell_type": "code",
   "execution_count": 30,
   "metadata": {},
   "outputs": [
    {
     "data": {
      "text/plain": [
       "(True, True)"
      ]
     },
     "execution_count": 30,
     "metadata": {},
     "output_type": "execute_result"
    }
   ],
   "source": [
    "max_value = None\n",
    "\n",
    "\n",
    "max_value is None, max_value == None"
   ]
  },
  {
   "cell_type": "code",
   "execution_count": 86,
   "metadata": {},
   "outputs": [
    {
     "data": {
      "text/plain": [
       "True"
      ]
     },
     "execution_count": 86,
     "metadata": {},
     "output_type": "execute_result"
    }
   ],
   "source": [
    "a = -5 \n",
    "b = -5\n",
    "a is b\n",
    "a, b\n"
   ]
  },
  {
   "cell_type": "markdown",
   "metadata": {},
   "source": [
    "! Не стоит писать max_value == None"
   ]
  },
  {
   "cell_type": "markdown",
   "metadata": {},
   "source": [
    "### Про тестирование"
   ]
  },
  {
   "cell_type": "markdown",
   "metadata": {},
   "source": [
    "#### В реальной жизни когда вы пишите программу, никакой тестирующей системы у вас нет"
   ]
  },
  {
   "cell_type": "markdown",
   "metadata": {},
   "source": [
    "#### Что делать? Как протестировать программу?"
   ]
  },
  {
   "cell_type": "markdown",
   "metadata": {},
   "source": [
    "- Подсказка: написать программу/ программы, который "
   ]
  },
  {
   "cell_type": "code",
   "execution_count": 35,
   "metadata": {},
   "outputs": [],
   "source": [
    "# Как может выглядеть это программа?"
   ]
  },
  {
   "cell_type": "markdown",
   "metadata": {},
   "source": [
    "1) набор тестов (как в контесте): есть некий набор входных данных и предпосчитанные \"правильные ответы\", проверяем на них нашу программу"
   ]
  },
  {
   "cell_type": "code",
   "execution_count": 37,
   "metadata": {},
   "outputs": [],
   "source": [
    "#Пример:\n",
    "    \n",
    "# Задача1\n",
    "# На вход подается массив целых чисел, \n",
    "#нужно вывести все его элементы, являющиеся четными числами в порядке возрастания\n",
    "# Для [1, 2, 3] правильный ответ будет [2]"
   ]
  },
  {
   "cell_type": "code",
   "execution_count": null,
   "metadata": {},
   "outputs": [],
   "source": [
    "# Предположим, у нас есть написанная программа, какой набор тестов вы бы использовали для проверки?"
   ]
  },
  {
   "cell_type": "markdown",
   "metadata": {},
   "source": [
    "- corner cases (пустой массив, все числа нечетные, все числа четные, одно число)\n",
    "- general cases (несколько тестов, позволяющих проверить работоспособность программы в принципе)\n",
    "- тесты на проверку эффективности работы алгоритма (подаем на вход большие данные, если речь про контест - то максимально допустимые значения), тут стоит добавить проверку, что программа укладывается во временное ограничение"
   ]
  },
  {
   "cell_type": "markdown",
   "metadata": {},
   "source": [
    "2) программа генерирующая случайные наборы тестов"
   ]
  },
  {
   "cell_type": "markdown",
   "metadata": {},
   "source": [
    "этот способ тестирования чаще всего используют вместе с предыдущим для проведения соревнований по программированию"
   ]
  },
  {
   "cell_type": "code",
   "execution_count": 41,
   "metadata": {},
   "outputs": [],
   "source": [
    "# Как может выглядеть программа для данной задачи?"
   ]
  },
  {
   "cell_type": "markdown",
   "metadata": {},
   "source": [
    "- инициализируем два списка: входные данные и ответ\n",
    "- генерируем случайное число (import random)\n",
    "- добавляем число во входные данные, если оно четное - добавляем в ответ\n",
    "- сортируем ответ (используем строго встроенную сортировку в python!!! так как она без багов)"
   ]
  },
  {
   "cell_type": "markdown",
   "metadata": {},
   "source": [
    "3) программа, проверяющая корректность вашего ответа"
   ]
  },
  {
   "cell_type": "markdown",
   "metadata": {},
   "source": [
    "- в данном случае мы можем пройтись по списку и проверить что он отсортирован (как это сделать не применяя метод сортировки)\n",
    "- пройтись по списку и проверить, что все числа четные\n",
    "\n",
    " какие недостатки данного подхода?"
   ]
  },
  {
   "cell_type": "markdown",
   "metadata": {},
   "source": [
    "ответ: мы можем всегда выводить [2, 2, 2] и наша программа не заподозрит неладное\n",
    "    \n",
    "- дополнительно нужно проверить, что все числа из ответа содержатся во входных данных"
   ]
  },
  {
   "cell_type": "markdown",
   "metadata": {},
   "source": [
    "4) программа, которая решает вашу задачу, но менее эффективным способом или способом, которым вы не можете пользоваться для решения задачи"
   ]
  },
  {
   "cell_type": "code",
   "execution_count": 44,
   "metadata": {},
   "outputs": [],
   "source": [
    "# например в Задаче1 вам сказали, что вы не можете использовать встроенную функцию сортировки\n",
    "# или же вы знаете как написать быстро менее эффективное решение, в котором уверенны\n"
   ]
  },
  {
   "cell_type": "markdown",
   "metadata": {},
   "source": [
    "для тестирования таким способом, вы должны \n",
    "- подготовить набор входных данных (без правильных ответов на входные данные)\n",
    "- сравнивать результат работы своей программы с \"неэффективным решением\""
   ]
  },
  {
   "cell_type": "markdown",
   "metadata": {},
   "source": [
    "Про модуль random: https://docs.python.org/3/library/random.html"
   ]
  },
  {
   "cell_type": "markdown",
   "metadata": {},
   "source": [
    "Пример написания тестов: https://ya.cc/t/k5WDBAsUmo3P9"
   ]
  },
  {
   "cell_type": "code",
   "execution_count": 87,
   "metadata": {},
   "outputs": [
    {
     "name": "stdout",
     "output_type": "stream",
     "text": [
      "ALL RIGHT\n"
     ]
    }
   ],
   "source": [
    "import random\n",
    "\n",
    "MAX_RANDINT_VALUE = 1000\n",
    "TESTS_COUNT = 1000\n",
    "TEST_SAMPLE_SIZE = 100\n",
    "\n",
    "\n",
    "def find_max(input_data):\n",
    "    cur_max = input_data[0]\n",
    "    for el in input_data:\n",
    "        if el > cur_max:\n",
    "            cur_max = el\n",
    "            \n",
    "    return cur_max\n",
    "\n",
    "\n",
    "def find_max_use_builtin(input_data):\n",
    "    return max(input_data)\n",
    "\n",
    "\n",
    "def test_find_max():\n",
    "    test_data = []\n",
    "    for i in range(TESTS_COUNT):\n",
    "        test_data = []\n",
    "        for j in range(TEST_SAMPLE_SIZE):\n",
    "            next_value = random.randint(0, MAX_RANDINT_VALUE)\n",
    "            test_data.append(next_value)\n",
    "        \n",
    "        if find_max(test_data) != find_max_use_builtin(test_data):\n",
    "            print('ERROR')\n",
    "            break\n",
    "    else:\n",
    "        print('ALL RIGHT')\n",
    "\n",
    "\n",
    "test_find_max()"
   ]
  },
  {
   "cell_type": "markdown",
   "metadata": {},
   "source": [
    "### Задачи на ревью ДЗ 3: 1, 20"
   ]
  },
  {
   "cell_type": "code",
   "execution_count": 45,
   "metadata": {},
   "outputs": [
    {
     "name": "stdin",
     "output_type": "stream",
     "text": [
      " 1 2 3 4 5\n"
     ]
    }
   ],
   "source": [
    "#Немного про формат ввода данных в новых домашних заданиях:\n",
    "#Компактное использование списков\n",
    "\n",
    "data = [int(value) for value in input().split()]"
   ]
  },
  {
   "cell_type": "code",
   "execution_count": 46,
   "metadata": {},
   "outputs": [
    {
     "data": {
      "text/plain": [
       "[1, 2, 3, 4, 5]"
      ]
     },
     "execution_count": 46,
     "metadata": {},
     "output_type": "execute_result"
    }
   ],
   "source": [
    "data"
   ]
  },
  {
   "cell_type": "code",
   "execution_count": 50,
   "metadata": {},
   "outputs": [
    {
     "name": "stdin",
     "output_type": "stream",
     "text": [
      " 1 2 3 4 5\n"
     ]
    }
   ],
   "source": [
    "data = list(map(int, input().split()))"
   ]
  },
  {
   "cell_type": "code",
   "execution_count": 51,
   "metadata": {},
   "outputs": [
    {
     "data": {
      "text/plain": [
       "[1, 2, 3, 4, 5]"
      ]
     },
     "execution_count": 51,
     "metadata": {},
     "output_type": "execute_result"
    }
   ],
   "source": [
    "data"
   ]
  },
  {
   "cell_type": "code",
   "execution_count": 52,
   "metadata": {},
   "outputs": [
    {
     "name": "stdin",
     "output_type": "stream",
     "text": [
      " 1 2 3 4 5\n"
     ]
    },
    {
     "name": "stdout",
     "output_type": "stream",
     "text": [
      "1\n",
      "2\n",
      "3\n",
      "4\n",
      "5\n"
     ]
    }
   ],
   "source": [
    "data = map(int, input().split())\n",
    "\n",
    "for element in data:\n",
    "    print(element)"
   ]
  },
  {
   "cell_type": "code",
   "execution_count": 57,
   "metadata": {},
   "outputs": [
    {
     "name": "stdout",
     "output_type": "stream",
     "text": [
      "1\n",
      "2\n",
      "3\n",
      "4\n",
      "5\n"
     ]
    }
   ],
   "source": [
    "data = [1, 2, 3, 4, 5]\n",
    "print(*data, sep='\\n')"
   ]
  },
  {
   "cell_type": "markdown",
   "metadata": {},
   "source": [
    "## Задачи на семинаре\n",
    "\n",
    "Ссылка на контест:\n",
    "https://official.contest.yandex.ru/contest/29107/\n",
    "\n",
    "для каждой задачи нужно написать тесты, убедиться что она работает\n",
    "после этого сдать ее в систему - обратите внимание, у вас ровно три попытки, результат прохождения тестов вы не увидите\n",
    "\n",
    "код для тестов нужно оставить тут https://code.yandex-team.ru/ (создать комнату и скопировать туда код)"
   ]
  },
  {
   "cell_type": "code",
   "execution_count": 65,
   "metadata": {},
   "outputs": [],
   "source": [
    "# при посылке задачи просто оставьте комментарий со ссылкой:\n",
    "\n",
    "# https://ya.cc/t/k5WDBAsUmo3P9\n",
    "https://ya.cc/t/N6ztRx2Ymq7gr"
   ]
  },
  {
   "cell_type": "code",
   "execution_count": null,
   "metadata": {},
   "outputs": [],
   "source": [
    "\n",
    "input_data_for_tests = [[1], [2], [3], [4], [5]]\n",
    "\n",
    "answer_for_tests = [-1, -2, -3, -4, -5]\n",
    "\n",
    "for i in range(len(input_data_for_tests)):\n",
    "    if your_solution(input_data_for_tests[i]) != answer_for_tests[i]:\n",
    "        print('ERROR')\n",
    "        \n"
   ]
  },
  {
   "cell_type": "markdown",
   "metadata": {},
   "source": []
  }
 ],
 "metadata": {
  "kernelspec": {
   "display_name": "Python 3",
   "language": "python",
   "name": "python3"
  },
  "language_info": {
   "codemirror_mode": {
    "name": "ipython",
    "version": 3
   },
   "file_extension": ".py",
   "mimetype": "text/x-python",
   "name": "python",
   "nbconvert_exporter": "python",
   "pygments_lexer": "ipython3",
   "version": "3.9.0"
  }
 },
 "nbformat": 4,
 "nbformat_minor": 2
}
