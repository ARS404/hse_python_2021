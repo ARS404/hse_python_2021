{
 "cells": [
  {
   "cell_type": "markdown",
   "metadata": {},
   "source": [
    "#### Немножко про условные операторы"
   ]
  },
  {
   "cell_type": "code",
   "execution_count": 2,
   "metadata": {},
   "outputs": [
    {
     "name": "stdin",
     "output_type": "stream",
     "text": [
      " 1\n",
      " 2\n"
     ]
    },
    {
     "name": "stdout",
     "output_type": "stream",
     "text": [
      "2\n"
     ]
    }
   ],
   "source": [
    "first_value = input()\n",
    "second_value = input()\n",
    "\n",
    "if first_value > second_value:\n",
    "    print(first_value)\n",
    "elif first_value == second_value:\n",
    "    print('equality')\n",
    "else:\n",
    "    print(second_value)"
   ]
  },
  {
   "cell_type": "code",
   "execution_count": 2,
   "metadata": {},
   "outputs": [
    {
     "name": "stdout",
     "output_type": "stream",
     "text": [
      "2\n"
     ]
    }
   ],
   "source": [
    "#Скобки ставить не нужно!!!!\n",
    "\n",
    "#НЕПРАВИЛЬНО \n",
    "if (first_value > second_value):\n",
    "    print(first_value)\n",
    "elif (first_value == second_value):\n",
    "    print('equality')\n",
    "else:\n",
    "    print(second_value)"
   ]
  },
  {
   "cell_type": "code",
   "execution_count": null,
   "metadata": {},
   "outputs": [],
   "source": [
    "int, int, арифм -> int\n",
    "int, bool, арифм -> int\n",
    "bool, bool, арифм -> int\n",
    "bool, int, логическая -> bool\n",
    "\n",
    "(first_value == second_value) + 1 -> int\n",
    "(first_value == second_value) + (first_value > second_value) -> int\n",
    "(first_value == second_value) < first_value -> bool\n",
    "first_value > second_value -> bool\n"
   ]
  },
  {
   "cell_type": "code",
   "execution_count": 14,
   "metadata": {},
   "outputs": [
    {
     "data": {
      "text/plain": [
       "'djdj'"
      ]
     },
     "execution_count": 14,
     "metadata": {},
     "output_type": "execute_result"
    }
   ],
   "source": [
    "True and 'djdj'"
   ]
  },
  {
   "cell_type": "code",
   "execution_count": 15,
   "metadata": {},
   "outputs": [
    {
     "data": {
      "text/plain": [
       "False"
      ]
     },
     "execution_count": 15,
     "metadata": {},
     "output_type": "execute_result"
    }
   ],
   "source": [
    "True > 5"
   ]
  },
  {
   "cell_type": "code",
   "execution_count": null,
   "metadata": {},
   "outputs": [],
   "source": [
    "True + 5"
   ]
  },
  {
   "cell_type": "markdown",
   "metadata": {},
   "source": [
    "### Ссылка на контест:\n",
    "    \n",
    "https://official.contest.yandex.ru/contest/29107/"
   ]
  },
  {
   "cell_type": "markdown",
   "metadata": {},
   "source": [
    "## Python Enhancement Proposals (PEP)"
   ]
  },
  {
   "cell_type": "code",
   "execution_count": 2,
   "metadata": {},
   "outputs": [],
   "source": [
    "# https://www.python.org/dev/peps/"
   ]
  },
  {
   "cell_type": "markdown",
   "metadata": {},
   "source": [
    "## Утверждение 1\n",
    "    \n",
    "Ваш код читается намного чаще, чем он пишется \n",
    "\n",
    "(Если это не так, подумайте, а что за код вы написали?)"
   ]
  },
  {
   "cell_type": "markdown",
   "metadata": {},
   "source": [
    "## Утверждение 2\n",
    "\n",
    "Pep8 создан для того, чтобы улучшить читаемость кода (не для того, чтобы кого-то нервировать) и добавить единообразие в программы разных людей"
   ]
  },
  {
   "cell_type": "markdown",
   "metadata": {},
   "source": [
    "### Основные правила"
   ]
  },
  {
   "cell_type": "markdown",
   "metadata": {},
   "source": [
    "#### 1. Максимальное количество символов на строке – 79 или 120 (если не строчка не влезает - переносим)"
   ]
  },
  {
   "cell_type": "code",
   "execution_count": 10,
   "metadata": {},
   "outputs": [],
   "source": [
    "my_first_long_variable, my_second_long_variable, my_third_long_variable = 1, 2, 3\n",
    "\n",
    "# плохо\n",
    "my_first_long_variable, my_second_long_variable = my_first_long_variable + my_second_long_variable, my_second_long_variable + my_third_long_variable "
   ]
  },
  {
   "cell_type": "code",
   "execution_count": 11,
   "metadata": {},
   "outputs": [],
   "source": [
    "my_first_long_variable = my_first_long_variable + my_second_long_variable\n",
    "my_second_long_variable = my_second_long_variable + my_third_long_variable \n",
    "\n",
    "# или (pycharm сам подскажет)\n",
    "my_first_long_variable, my_second_long_variable =\\\n",
    "    my_first_long_variable + my_second_long_variable, my_second_long_variable + my_third_long_variable \n",
    "\n",
    "my_first_long_variable, my_second_long_variable = my_first_long_variable + my_second_long_variable, \\\n",
    "                                                  my_second_long_variable + my_third_long_variable"
   ]
  },
  {
   "cell_type": "markdown",
   "metadata": {},
   "source": [
    "- Перенос сразу после оператора присвоения сопровождается отступом в 4 пробела\n",
    "- Перенос строчки после запятой сопровождается отступом до оператора присвоения"
   ]
  },
  {
   "cell_type": "code",
   "execution_count": 19,
   "metadata": {},
   "outputs": [],
   "source": [
    "#Аналогично работает и с функциями\n",
    "\n",
    "# плохо\n",
    "def function_with_many_arguments(gross_wages, taxable_interest, dividends, qualified_dividends, ira_deduction, student_loan_interest):\n",
    "    pass"
   ]
  },
  {
   "cell_type": "code",
   "execution_count": 20,
   "metadata": {},
   "outputs": [],
   "source": [
    "def function_with_many_arguments(\n",
    "    gross_wages, taxable_interest, dividends, qualified_dividends, ira_deduction, student_loan_interest):\n",
    "    pass\n",
    "\n",
    "def function_with_many_arguments(\n",
    "    gross_wages, taxable_interest, dividends, qualified_dividends, \n",
    "    ira_deduction, student_loan_interest):\n",
    "    pass\n",
    "\n",
    "def function_with_many_arguments(gross_wages, taxable_interest, dividends, qualified_dividends, \n",
    "                                 ira_deduction, student_loan_interest):\n",
    "    pass"
   ]
  },
  {
   "cell_type": "markdown",
   "metadata": {},
   "source": [
    "#### 2. Переносы математических операций"
   ]
  },
  {
   "cell_type": "code",
   "execution_count": 14,
   "metadata": {},
   "outputs": [],
   "source": [
    "gross_wages, taxable_interest, dividends, qualified_dividends, ira_deduction, student_loan_interest = [0] * 6\n",
    "income = (gross_wages\n",
    "          + taxable_interest\n",
    "          + (dividends - dividends)\n",
    "          - ira_deduction\n",
    "          - student_loan_interest)\n",
    "\n",
    "# плохо\n",
    "income = (gross_wages +\n",
    "          taxable_interest +\n",
    "          (dividends - qualified_dividends) -\n",
    "          ira_deduction -\n",
    "          student_loan_interest)"
   ]
  },
  {
   "cell_type": "markdown",
   "metadata": {},
   "source": [
    "#### 3. Пустые строки"
   ]
  },
  {
   "cell_type": "markdown",
   "metadata": {},
   "source": [
    "- Пустая строка в конце программы\n",
    "- Между функциями две пустые строки\n",
    "- Пустая строка может быть использована для разделения логики в программе"
   ]
  },
  {
   "cell_type": "code",
   "execution_count": 4,
   "metadata": {},
   "outputs": [
    {
     "name": "stdout",
     "output_type": "stream",
     "text": [
      "0\n"
     ]
    }
   ],
   "source": [
    "#Пример:\n",
    "\n",
    "def solve_task(apples, buckets):\n",
    "    return apples // buckets\n",
    "\n",
    "apples, buckets = 1, 2\n",
    "\n",
    "answer = solve_task(apples, buckets)\n",
    "\n",
    "print(answer)"
   ]
  },
  {
   "cell_type": "markdown",
   "metadata": {},
   "source": [
    "#### 4. Допускается использование как одиночных, так и двойных кавычек"
   ]
  },
  {
   "cell_type": "markdown",
   "metadata": {},
   "source": [
    "#### 5. Пробелы в выражениях! [внимание, очень важно]"
   ]
  },
  {
   "cell_type": "markdown",
   "metadata": {},
   "source": [
    "- вокруг (, [, { пробелы не ставим\n",
    "- ставим пробел после ,: (перед - не ставим)\n",
    "- вокруг оператора присвоения = с двух сторон запятые"
   ]
  },
  {
   "cell_type": "code",
   "execution_count": 31,
   "metadata": {},
   "outputs": [
    {
     "data": {
      "text/plain": [
       "2"
      ]
     },
     "execution_count": 31,
     "metadata": {},
     "output_type": "execute_result"
    }
   ],
   "source": [
    "def spam(ham, other):\n",
    "    return ham\n",
    "ham = (1, 2)\n",
    "eggs = 3\n",
    "spam(ham[1], {eggs: 2})"
   ]
  },
  {
   "cell_type": "code",
   "execution_count": 32,
   "metadata": {},
   "outputs": [],
   "source": [
    "#Исключение, когда не ставим пробел после запятой, если за ней следуюет скобка: \n",
    "ham = (1,)  "
   ]
  },
  {
   "cell_type": "code",
   "execution_count": 33,
   "metadata": {},
   "outputs": [
    {
     "name": "stdin",
     "output_type": "stream",
     "text": [
      " 1\n",
      " 2\n"
     ]
    }
   ],
   "source": [
    "first_value = input()\n",
    "second_value = input()\n",
    "\n",
    "if first_value == 4: \n",
    "    print(first_value, second_value)\n",
    "else:\n",
    "    first_value, second_value = first_value, second_value"
   ]
  },
  {
   "cell_type": "code",
   "execution_count": 34,
   "metadata": {},
   "outputs": [
    {
     "data": {
      "text/plain": [
       "[2]"
      ]
     },
     "execution_count": 34,
     "metadata": {},
     "output_type": "execute_result"
    }
   ],
   "source": [
    "#Исключение, когда не ставим пробел после :, если мы работаем со срезами \n",
    "#(об этом говорить будем позже, но имейте в виду)\n",
    "\n",
    "ham = [1, 2, 3, 4, 5]\n",
    "ham[1:2]"
   ]
  },
  {
   "cell_type": "code",
   "execution_count": 6,
   "metadata": {},
   "outputs": [],
   "source": [
    "#Так же рекомендуется ставить пробелы вокруг ВСЕХ арифметических  и логических операторов:\n",
    "\n",
    "i, submitted, first_value, second_value = [0] * 4\n",
    "i = i + 1\n",
    "submitted += 1\n",
    "first_value = first_value * 2 - 1\n",
    "hypotenuse_2 = first_value * first_value + second_value * second_value\n",
    "total = (first_value + second_value) * (first_value - second_value)"
   ]
  },
  {
   "cell_type": "code",
   "execution_count": 7,
   "metadata": {},
   "outputs": [],
   "source": [
    "#Чтобы объединить логику, можно (но я лично не рекомендую) избегать пробелов в некоторых слуяаях:\n",
    "    \n",
    "total = (first_value+second_value) * (first_value-second_value) \n",
    "hypotenuse_2 = first_value*first_value + second_value*second_value"
   ]
  },
  {
   "cell_type": "markdown",
   "metadata": {},
   "source": [
    "#### 6. Названия переменных и правила хорошего тона"
   ]
  },
  {
   "cell_type": "code",
   "execution_count": 43,
   "metadata": {},
   "outputs": [],
   "source": [
    "# https://www.python.org/dev/peps/pep-0008/#prescriptive-naming-conventions"
   ]
  },
  {
   "cell_type": "markdown",
   "metadata": {},
   "source": [
    "Какие бывают переменные:\n",
    "    \n",
    "- lowercase, lower_case_with_underscores (snake_case, более предпочтительно для названий переменных и методов)\n",
    "\n",
    "- UPPERCASE, UPPER_CASE_WITH_UNDERSCORES (для определения глобальных переменных, констант)\n",
    "- CapitalizedWords (or CapWords, or CamelCase) (чаще всего используется для названий классов)\n",
    "- mixedCase (почти как CamelCase, устаревшее для названий функций)\n",
    "- Capitalized_Words_With_Underscores (некрасиво и никто так не пишет)\n",
    "\n",
    "- \\_single_leading_underscore: индикатор для внутрненнего использования\n",
    "- single_trailing_underscore_: для разрешения конфликтов (например, хотим назвать переменную id_)\n",
    "    \n",
    "Сильно не заморачиваемся\n",
    "- __double_leading_underscore: для названий внутренних атрибутов классов\n",
    "- \\__double_leading_and_trailing_underscore__: \"magic\" objects or attributes"
   ]
  },
  {
   "cell_type": "markdown",
   "metadata": {},
   "source": [
    "- никаких однобуквенных переменных, исключение i, j в циклах; возможно x, y если речь про координатные оси\n",
    "- если хотите использовать число в программе, назовите его number, count или более осознанно как определено в задаче (например, количество яблок)\n",
    "\n",
    "- Нельзя перегружать встроенные функции min, max, int, str и т.п."
   ]
  },
  {
   "cell_type": "markdown",
   "metadata": {},
   "source": [
    "#### Про что поговорим попозже: импортирование библиотек"
   ]
  },
  {
   "cell_type": "markdown",
   "metadata": {},
   "source": [
    "## Цикл while"
   ]
  },
  {
   "cell_type": "code",
   "execution_count": 45,
   "metadata": {},
   "outputs": [
    {
     "name": "stdin",
     "output_type": "stream",
     "text": [
      " 1\n"
     ]
    },
    {
     "name": "stdout",
     "output_type": "stream",
     "text": [
      "input: 1\n"
     ]
    },
    {
     "name": "stdin",
     "output_type": "stream",
     "text": [
      " 2\n"
     ]
    },
    {
     "name": "stdout",
     "output_type": "stream",
     "text": [
      "input: 2\n"
     ]
    },
    {
     "name": "stdin",
     "output_type": "stream",
     "text": [
      " 0\n"
     ]
    }
   ],
   "source": [
    "while True:\n",
    "    input_number = int(input())\n",
    "    if not input_number:\n",
    "        break\n",
    "    \n",
    "    print('input:', input_number)"
   ]
  },
  {
   "cell_type": "markdown",
   "metadata": {},
   "source": [
    "### ДЗ1: Проверка на делимость"
   ]
  },
  {
   "cell_type": "code",
   "execution_count": null,
   "metadata": {},
   "outputs": [],
   "source": [
    "a = int(input())\n",
    "b = int(input())\n",
    "\n",
    "yes = 'YES'\n",
    "no = 'NO'\n",
    "\n",
    "no_factor = a % b\n",
    "no_factor = <>\n",
    "yes_factor = 1 - no_factor\n",
    "answer = yes * yes_factor + no * no_factor\n",
    "print(answer)"
   ]
  },
  {
   "cell_type": "markdown",
   "metadata": {},
   "source": [
    "### Задачи на ревью из нового ДЗ2: 10, 18"
   ]
  },
  {
   "cell_type": "code",
   "execution_count": null,
   "metadata": {},
   "outputs": [],
   "source": []
  }
 ],
 "metadata": {
  "kernelspec": {
   "display_name": "Python 3",
   "language": "python",
   "name": "python3"
  },
  "language_info": {
   "codemirror_mode": {
    "name": "ipython",
    "version": 3
   },
   "file_extension": ".py",
   "mimetype": "text/x-python",
   "name": "python",
   "nbconvert_exporter": "python",
   "pygments_lexer": "ipython3",
   "version": "3.9.0"
  }
 },
 "nbformat": 4,
 "nbformat_minor": 2
}
