{
 "cells": [
  {
   "cell_type": "markdown",
   "metadata": {},
   "source": [
    "## Семинар 08.09 - знакомство с Python и не только"
   ]
  },
  {
   "cell_type": "markdown",
   "metadata": {},
   "source": [
    "## Давайте знакомиться"
   ]
  },
  {
   "cell_type": "markdown",
   "metadata": {},
   "source": [
    "Меня зовут Катя, закончила магистратуру ФКН ВШЭ, два последних года работаю в Яндексе разработчиком на Python)))\n",
    "Мои контакты: тг @pogodinaE, телефон 9162556564, почта pogodina.eval@gmail.com\n",
    "\n",
    "Писать можно в любое время, вероятнее всего я оперативнее отвечаю с 20:00 до 2:00"
   ]
  },
  {
   "cell_type": "markdown",
   "metadata": {},
   "source": [
    "## А теперь ваша очередь"
   ]
  },
  {
   "cell_type": "markdown",
   "metadata": {},
   "source": [
    "- Как тебя зовут?\n",
    "- Какие языки программирования знаешь?\n",
    "- Математика или программирование?"
   ]
  },
  {
   "cell_type": "markdown",
   "metadata": {},
   "source": [
    "### Где искать всю информацию о курсе???"
   ]
  },
  {
   "cell_type": "markdown",
   "metadata": {},
   "source": [
    "[САМАЯ ВАЖНАЯ СТРАНИЦА С ИНФОРМАЦИЕЙ НА КУРСЕ](http://wiki.cs.hse.ru/Основы_и_методология_программирования_на_ПМИ_2021/2022_(основной_поток))"
   ]
  },
  {
   "cell_type": "markdown",
   "metadata": {},
   "source": [
    "Оценка за курс:\n",
    "    \n",
    "0.4 * экзамен + 0.6 * работа в течение модуля"
   ]
  },
  {
   "cell_type": "markdown",
   "metadata": {},
   "source": [
    "### Что такое работа в течение модуля?"
   ]
  },
  {
   "cell_type": "markdown",
   "metadata": {},
   "source": [
    "- Решение домашних задач в Яндекс.Контест (A)\n",
    "- Работа на семинарах (B)\n",
    "- Защита еженедельных контестов (C)"
   ]
  },
  {
   "cell_type": "markdown",
   "metadata": {},
   "source": [
    "За каждую лекционную тему ставится оценка:\n",
    "\n",
    "```min(10, C*(0.8*A + 0.2*B))```"
   ]
  },
  {
   "cell_type": "markdown",
   "metadata": {},
   "source": [
    "- A: от 0 до 14 (обратите внимание что сумма баллов в любом ДЗ больше 14, но для максимального балла достаточно решить на 14 баллов!)\n",
    "- B: от 0 до 10\n",
    "- С: от 0.3 до 1"
   ]
  },
  {
   "cell_type": "markdown",
   "metadata": {},
   "source": [
    "### Что такое работа на семинарах?"
   ]
  },
  {
   "cell_type": "markdown",
   "metadata": {},
   "source": [
    "Подсказка: правильного ответа я сама не знаю))"
   ]
  },
  {
   "cell_type": "markdown",
   "metadata": {},
   "source": [
    "Каждый семинар будет происходить активность, за которую можно будет получать баллы (скорее всего это будут интересные задачи, которые мне пригодились в жизни)"
   ]
  },
  {
   "cell_type": "markdown",
   "metadata": {},
   "source": [
    "Ссылка на таблицу с баллами за семинар: https://docs.google.com/spreadsheets/d/1-Y_b_iPFIByGMyjYX4dTW8C1ZmmQJqbWGl6Ia_5KtRA/edit?usp=sharing"
   ]
  },
  {
   "cell_type": "markdown",
   "metadata": {},
   "source": [
    "- Что делать, если я по уважительной причине пропустил семинар?\n",
    "- Ничего страшного, решай больше домашних задач, ```0.8 * 14 = 11.2```"
   ]
  },
  {
   "cell_type": "markdown",
   "metadata": {},
   "source": [
    "## Что нужно сделать за сегодня и получить 10 баллов?"
   ]
  },
  {
   "cell_type": "markdown",
   "metadata": {},
   "source": [
    "- установить python3 https://www.python.org/downloads/\n",
    "- установить pycharm https://www.jetbrains.com/pycharm/download/\n",
    "- сдать 1-ую задачу из ДЗ: https://official.contest.yandex.ru/contest/29037/enter/"
   ]
  },
  {
   "cell_type": "markdown",
   "metadata": {},
   "source": [
    "Материалы лекций прошлого года на русском языке:\n",
    "https://yadi.sk/i/BkcKilJkumcPV"
   ]
  },
  {
   "cell_type": "markdown",
   "metadata": {},
   "source": [
    "Спойлер - лучше начинать учиться читать и искать информацию на английском уже сейчас"
   ]
  },
  {
   "cell_type": "markdown",
   "metadata": {},
   "source": [
    "## Ревью кода"
   ]
  },
  {
   "cell_type": "markdown",
   "metadata": {},
   "source": [
    "(Начиная со следующего домашнего задания)\n",
    "\n",
    "Каждое домашнее задание я буду выбирать **две задачи**, в которых вы будете проходить мое ручное ревью\n",
    "\n",
    "Для вас это значит:\n",
    "- задача, которая была сдана и в системе и получила в системе статус ОК, может быть мною отозвана\n",
    "- я буду писать вам в ЛС в телеграм и просить что-то поправить/ переделать\n",
    "- задача будет считаться сданной, если в этой табличке https://docs.google.com/spreadsheets/d/1-Y_b_iPFIByGMyjYX4dTW8C1ZmmQJqbWGl6Ia_5KtRA/edit?usp=sharing вы видете ОК\n",
    "\n",
    "Примечания:\n",
    "- я буду стараться (но я тоже человек) давать обратную связь по задаче в течение 12 часов с момента отправки, то есть - либо напишу вам, либо вы увидите в табличке https://docs.google.com/spreadsheets/d/1-Y_b_iPFIByGMyjYX4dTW8C1ZmmQJqbWGl6Ia_5KtRA/edit?usp=sharing в колонке с задачей ОК\n",
    "- не затягивайте с решением этих задач до последнего момента\n",
    "- о том, как писать красивый и понятный код и на что я буду обращать внимание, мы обсудим на следующем семинаре\n",
    "- это процедура возможно будет неприятной, но поможет вам сократить время написание программ/ контестов в будующем"
   ]
  },
  {
   "cell_type": "markdown",
   "metadata": {},
   "source": [
    "### А теперь немного про python"
   ]
  },
  {
   "cell_type": "code",
   "execution_count": 3,
   "metadata": {},
   "outputs": [
    {
     "name": "stdin",
     "output_type": "stream",
     "text": [
      " 1\n",
      " 2\n"
     ]
    }
   ],
   "source": [
    "# python3\n",
    "n = input()\n",
    "k = input()"
   ]
  },
  {
   "cell_type": "code",
   "execution_count": 4,
   "metadata": {},
   "outputs": [
    {
     "data": {
      "text/plain": [
       "('1', '2')"
      ]
     },
     "execution_count": 4,
     "metadata": {},
     "output_type": "execute_result"
    }
   ],
   "source": [
    "n, k"
   ]
  },
  {
   "cell_type": "code",
   "execution_count": 5,
   "metadata": {},
   "outputs": [
    {
     "ename": "TypeError",
     "evalue": "unsupported operand type(s) for //: 'str' and 'str'",
     "output_type": "error",
     "traceback": [
      "\u001b[0;31m---------------------------------------------------------------------------\u001b[0m",
      "\u001b[0;31mTypeError\u001b[0m                                 Traceback (most recent call last)",
      "\u001b[0;32m<ipython-input-5-63d5f073f69c>\u001b[0m in \u001b[0;36m<module>\u001b[0;34m\u001b[0m\n\u001b[0;32m----> 1\u001b[0;31m \u001b[0mn\u001b[0m \u001b[0;34m//\u001b[0m \u001b[0mk\u001b[0m\u001b[0;34m\u001b[0m\u001b[0;34m\u001b[0m\u001b[0m\n\u001b[0m",
      "\u001b[0;31mTypeError\u001b[0m: unsupported operand type(s) for //: 'str' and 'str'"
     ]
    }
   ],
   "source": [
    "n // k"
   ]
  },
  {
   "cell_type": "code",
   "execution_count": 6,
   "metadata": {},
   "outputs": [],
   "source": [
    "n, k = int(n), int(k)"
   ]
  },
  {
   "cell_type": "code",
   "execution_count": 7,
   "metadata": {},
   "outputs": [
    {
     "data": {
      "text/plain": [
       "(0, 0.5)"
      ]
     },
     "execution_count": 7,
     "metadata": {},
     "output_type": "execute_result"
    }
   ],
   "source": [
    "n // k, n / k"
   ]
  },
  {
   "cell_type": "code",
   "execution_count": 1,
   "metadata": {},
   "outputs": [
    {
     "name": "stdin",
     "output_type": "stream",
     "text": [
      " 1\n",
      " 2\n"
     ]
    }
   ],
   "source": [
    "# python 2\n",
    "n = input()\n",
    "k = input()"
   ]
  },
  {
   "cell_type": "code",
   "execution_count": 2,
   "metadata": {},
   "outputs": [
    {
     "data": {
      "text/plain": [
       "(1, 2)"
      ]
     },
     "execution_count": 2,
     "metadata": {},
     "output_type": "execute_result"
    }
   ],
   "source": [
    "n, k"
   ]
  },
  {
   "cell_type": "code",
   "execution_count": 3,
   "metadata": {},
   "outputs": [
    {
     "data": {
      "text/plain": [
       "(0, 0)"
      ]
     },
     "execution_count": 3,
     "metadata": {},
     "output_type": "execute_result"
    }
   ],
   "source": [
    "n // k, n / k"
   ]
  },
  {
   "cell_type": "markdown",
   "metadata": {},
   "source": [
    "### Как работать с input проще?"
   ]
  },
  {
   "cell_type": "code",
   "execution_count": 1,
   "metadata": {},
   "outputs": [
    {
     "name": "stdin",
     "output_type": "stream",
     "text": [
      " 1\n",
      " 2\n"
     ]
    }
   ],
   "source": [
    "n = int(input())\n",
    "k = int(input())"
   ]
  },
  {
   "cell_type": "code",
   "execution_count": 2,
   "metadata": {},
   "outputs": [
    {
     "data": {
      "text/plain": [
       "1"
      ]
     },
     "execution_count": 2,
     "metadata": {},
     "output_type": "execute_result"
    }
   ],
   "source": [
    "# Приведение типов:\n",
    "\n",
    "n = 1\n",
    "n"
   ]
  },
  {
   "cell_type": "code",
   "execution_count": 3,
   "metadata": {},
   "outputs": [
    {
     "data": {
      "text/plain": [
       "'1'"
      ]
     },
     "execution_count": 3,
     "metadata": {},
     "output_type": "execute_result"
    }
   ],
   "source": [
    "n = str(n)\n",
    "n"
   ]
  },
  {
   "cell_type": "code",
   "execution_count": 5,
   "metadata": {},
   "outputs": [
    {
     "data": {
      "text/plain": [
       "1.0"
      ]
     },
     "execution_count": 5,
     "metadata": {},
     "output_type": "execute_result"
    }
   ],
   "source": [
    "n = float(n)\n",
    "n"
   ]
  },
  {
   "cell_type": "code",
   "execution_count": null,
   "metadata": {},
   "outputs": [],
   "source": [
    "# Арифметические операции\n",
    "\n",
    "+, -, *, /, //"
   ]
  },
  {
   "cell_type": "code",
   "execution_count": 6,
   "metadata": {},
   "outputs": [
    {
     "name": "stdout",
     "output_type": "stream",
     "text": [
      "1 2\n"
     ]
    }
   ],
   "source": [
    "# Вывод данных\n",
    "\n",
    "print(1, 2)"
   ]
  },
  {
   "cell_type": "code",
   "execution_count": 7,
   "metadata": {},
   "outputs": [
    {
     "name": "stdout",
     "output_type": "stream",
     "text": [
      "1 2собака"
     ]
    }
   ],
   "source": [
    "print(1, 2, end='собака')"
   ]
  },
  {
   "cell_type": "code",
   "execution_count": 8,
   "metadata": {},
   "outputs": [
    {
     "name": "stdout",
     "output_type": "stream",
     "text": [
      "1 2\n",
      "собака"
     ]
    }
   ],
   "source": [
    "print(1, 2, end='\\nсобака')"
   ]
  },
  {
   "cell_type": "code",
   "execution_count": 9,
   "metadata": {},
   "outputs": [
    {
     "name": "stdout",
     "output_type": "stream",
     "text": [
      "1 котик 2\n"
     ]
    }
   ],
   "source": [
    "print(1, 2, sep=' котик ')"
   ]
  },
  {
   "cell_type": "code",
   "execution_count": null,
   "metadata": {},
   "outputs": [],
   "source": []
  }
 ],
 "metadata": {
  "kernelspec": {
   "display_name": "Python 3",
   "language": "python",
   "name": "python3"
  },
  "language_info": {
   "codemirror_mode": {
    "name": "ipython",
    "version": 3
   },
   "file_extension": ".py",
   "mimetype": "text/x-python",
   "name": "python",
   "nbconvert_exporter": "python",
   "pygments_lexer": "ipython3",
   "version": "3.9.0"
  }
 },
 "nbformat": 4,
 "nbformat_minor": 2
}
